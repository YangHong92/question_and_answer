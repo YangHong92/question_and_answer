{
 "cells": [
  {
   "cell_type": "code",
   "execution_count": 2,
   "id": "07ffc1b2",
   "metadata": {
    "ExecuteTime": {
     "end_time": "2023-03-08T18:57:59.789598Z",
     "start_time": "2023-03-08T18:57:57.686301Z"
    }
   },
   "outputs": [],
   "source": [
    "from transformers import GPT2TokenizerFast\n",
    "import pandas as pd\n",
    "import openai\n",
    "import numpy as np\n",
    "import pickle\n",
    "import json\n",
    "from dotenv import load_dotenv\n",
    "\n",
    "COMPLETIONS_MODEL = \"text-davinci-002\""
   ]
  },
  {
   "cell_type": "code",
   "execution_count": 9,
   "id": "26d2e854",
   "metadata": {
    "ExecuteTime": {
     "end_time": "2023-03-08T19:02:04.670309Z",
     "start_time": "2023-03-08T19:02:04.655602Z"
    }
   },
   "outputs": [],
   "source": [
    "import os\n",
    "from dotenv import load_dotenv\n",
    "\n",
    "load_dotenv()\n",
    "api = os.getenv(\"OPENAI_API_KEY\")"
   ]
  },
  {
   "cell_type": "markdown",
   "id": "59311a21",
   "metadata": {},
   "source": [
    "# load api_key"
   ]
  },
  {
   "cell_type": "code",
   "execution_count": 12,
   "id": "42fe165e",
   "metadata": {
    "ExecuteTime": {
     "end_time": "2023-03-08T19:27:28.706375Z",
     "start_time": "2023-03-08T19:27:28.696033Z"
    }
   },
   "outputs": [],
   "source": [
    "openai.api_key = api\n",
    "# openai.Model.list()"
   ]
  },
  {
   "cell_type": "markdown",
   "id": "921f41ef",
   "metadata": {},
   "source": [
    "### reading from config.json"
   ]
  },
  {
   "cell_type": "code",
   "execution_count": 33,
   "id": "b1826065",
   "metadata": {
    "ExecuteTime": {
     "end_time": "2023-01-28T23:28:36.176293Z",
     "start_time": "2023-01-28T23:28:36.171725Z"
    }
   },
   "outputs": [
    {
     "name": "stdout",
     "output_type": "stream",
     "text": [
      "Type: <class 'dict'>\n",
      "curie\n",
      "text-davinci-002\n"
     ]
    }
   ],
   "source": [
    "with open('../../config.json') as json_file:\n",
    "    data = json.load(json_file)\n",
    " \n",
    "    # Print the type of data variable\n",
    "    print(\"Type:\", type(data))\n",
    "    \n",
    "print(data[\"MODEL_NAME\"])\n",
    "print(data[\"COMPLETIONS_MODEL\"])"
   ]
  },
  {
   "cell_type": "markdown",
   "id": "25684eb8",
   "metadata": {},
   "source": [
    "# Demo openai.Completion"
   ]
  },
  {
   "cell_type": "markdown",
   "id": "b1e330f3",
   "metadata": {},
   "source": [
    "### without I don't know"
   ]
  },
  {
   "cell_type": "code",
   "execution_count": 13,
   "id": "e63db668",
   "metadata": {
    "ExecuteTime": {
     "end_time": "2023-03-08T19:33:06.476869Z",
     "start_time": "2023-03-08T19:33:03.229851Z"
    }
   },
   "outputs": [
    {
     "data": {
      "text/plain": [
       "\"The member's capital in 2021 is $1,000.\""
      ]
     },
     "execution_count": 13,
     "metadata": {},
     "output_type": "execute_result"
    }
   ],
   "source": [
    "prompt = \"What is the member's capital in 2021?\"\n",
    "\n",
    "openai.Completion.create(\n",
    "    prompt=prompt,\n",
    "    temperature=0,\n",
    "    max_tokens=50,\n",
    "    top_p=1,\n",
    "    frequency_penalty=0,\n",
    "    presence_penalty=0,\n",
    "    model=COMPLETIONS_MODEL\n",
    ")[\"choices\"][0][\"text\"].strip(\" \\n\")"
   ]
  },
  {
   "cell_type": "markdown",
   "id": "37831714",
   "metadata": {},
   "source": [
    "### with I don't know"
   ]
  },
  {
   "cell_type": "code",
   "execution_count": 11,
   "id": "9d0780a8",
   "metadata": {
    "ExecuteTime": {
     "end_time": "2023-03-08T19:14:31.375731Z",
     "start_time": "2023-03-08T19:14:30.420417Z"
    }
   },
   "outputs": [
    {
     "data": {
      "text/plain": [
       "\"Sorry, I don't know.\""
      ]
     },
     "execution_count": 11,
     "metadata": {},
     "output_type": "execute_result"
    }
   ],
   "source": [
    "prompt = \"\"\"\n",
    "Answer the question as truthfully as possible, and if you're unsure of the answer, say \n",
    "\"Sorry, I don't know\".\n",
    "\n",
    "Q: What is the member's capital in 2021?\n",
    "A:\n",
    "\"\"\"\n",
    "\n",
    "openai.Completion.create(\n",
    "    prompt=prompt,\n",
    "    temperature=0,\n",
    "    max_tokens=300,\n",
    "    top_p=1,\n",
    "    frequency_penalty=0,\n",
    "    presence_penalty=0,\n",
    "    model=COMPLETIONS_MODEL\n",
    ")[\"choices\"][0][\"text\"].strip(\" \\n\")"
   ]
  },
  {
   "cell_type": "markdown",
   "id": "86c5138c",
   "metadata": {},
   "source": [
    "### with context"
   ]
  },
  {
   "cell_type": "code",
   "execution_count": 10,
   "id": "62d457c8",
   "metadata": {
    "ExecuteTime": {
     "end_time": "2023-03-08T19:14:08.943027Z",
     "start_time": "2023-03-08T19:14:07.017301Z"
    }
   },
   "outputs": [
    {
     "data": {
      "text/plain": [
       "'258 million'"
      ]
     },
     "execution_count": 10,
     "metadata": {},
     "output_type": "execute_result"
    }
   ],
   "source": [
    "prompt = \"\"\"\n",
    "Answer the question as truthfully as possible using the provided context, and if the answer is not contained within the text below, say \"I don't know.\"\n",
    "\n",
    "Context:\n",
    "\n",
    "* Movements in members’ capital were as follows:£mBalance at 1 October 2019 86Capital introduced by members 5Transfer of amounts due to members allocated to capital 13Repayments of capital (17)Balance at 30 September 2020 87Capital introduced by members 5Allocation of profits arising in year 181Repayments of capital (15)Balance at 30 September 2021 258Non-current 181Current 77At 30 September 2021, £20 million of members’ capital owed to former partners was classified as a non-current liability (see note 13)\n",
    "* Members’ capital is provided by each member on becoming a partner and is only repayable on retirement or resignation so generally remains stable from year to year. However, during the year, partners voted in favour of allocating £201 million of reserves to members’ capital, for repayment only after retirement, thereby retaining funds in the business for future investment. As a result, members’ capital increased to £258 million at 30 September 2021 (2020: £87 million)\n",
    "* Group Partnership2021  £m2020  £m2021  £m2020  £mMembers’ capital 258 87 258 87Lease liabilities 487 534 462 502745 621 720 58945UK Members’ Report and Financial Statements 2021© 2022 KPMG LLP , a UK limited liability partnership and a member firm of the KPMG global organisation of independent member firms affiliated with KPMG International Limited, a private English company limited by guarantee. All rights reserved.\n",
    "* Movements in members’ capital were as follows:£mBalance at 1 October 2018 73Capital introduced by members 8Transfer of amounts due to members allocated to capital 14Repayments of capital (9)Balance at 30 September 2019 86Capital introduced by members 5Transfer of amounts due to members, allocated to capital 13Repayments of capital (17)Balance at 30 September 2020 8722. Equity, members’ capital and other interests (continued)Amounts due from/(to) members In addition to other members’ interests classified as equity, members’ interests also comprise amounts due from/(to) members as follows:Group Partnership2020  £m2019  £m2020  £m2019  £mAmounts due from members 47 46 47 46Amounts due to members (178) (205) (178) (205) (131) (159) (131) (159)Amounts due from members relate to amounts advanced to members in their first year of appointment, to cover the liabilities arising for those individuals as a result of the change in tax basis to self-employed. These balances are repayable by the member upon retirement or earlier cessation of membership\n",
    "* The availability of this revolving facility is dependent on certain conditions, including a minimum level of members’ capital, all of which were satisfied at 30 September 2020 and 2019\n",
    "\n",
    " Q: What is the member's capital in 2021?\n",
    " A:\"\"\"\n",
    "\n",
    "openai.Completion.create(\n",
    "    prompt=prompt,\n",
    "    temperature=0,\n",
    "    max_tokens=300,\n",
    "    top_p=1,\n",
    "    frequency_penalty=0,\n",
    "    presence_penalty=0,\n",
    "    model=COMPLETIONS_MODEL\n",
    ")[\"choices\"][0][\"text\"].strip(\" \\n\")"
   ]
  },
  {
   "cell_type": "markdown",
   "id": "6319f826",
   "metadata": {},
   "source": [
    "# Try with own knowledge base"
   ]
  },
  {
   "cell_type": "code",
   "execution_count": 34,
   "id": "73e3b4fe",
   "metadata": {
    "ExecuteTime": {
     "end_time": "2023-01-28T23:56:39.299074Z",
     "start_time": "2023-01-28T23:56:39.274706Z"
    }
   },
   "outputs": [
    {
     "name": "stdout",
     "output_type": "stream",
     "text": [
      "1002 rows in the data.\n"
     ]
    },
    {
     "data": {
      "text/html": [
       "<div>\n",
       "<style scoped>\n",
       "    .dataframe tbody tr th:only-of-type {\n",
       "        vertical-align: middle;\n",
       "    }\n",
       "\n",
       "    .dataframe tbody tr th {\n",
       "        vertical-align: top;\n",
       "    }\n",
       "\n",
       "    .dataframe thead th {\n",
       "        text-align: right;\n",
       "    }\n",
       "</style>\n",
       "<table border=\"1\" class=\"dataframe\">\n",
       "  <thead>\n",
       "    <tr style=\"text-align: right;\">\n",
       "      <th></th>\n",
       "      <th></th>\n",
       "      <th>content</th>\n",
       "      <th>tokens</th>\n",
       "    </tr>\n",
       "    <tr>\n",
       "      <th>title</th>\n",
       "      <th>heading</th>\n",
       "      <th></th>\n",
       "      <th></th>\n",
       "    </tr>\n",
       "  </thead>\n",
       "  <tbody>\n",
       "    <tr>\n",
       "      <th rowspan=\"5\" valign=\"top\">doc_title</th>\n",
       "      <th>heading755</th>\n",
       "      <td>Significant Estimate The net book value of the...</td>\n",
       "      <td>61</td>\n",
       "    </tr>\n",
       "    <tr>\n",
       "      <th>heading888</th>\n",
       "      <td>NotesForming part of the consolidated financia...</td>\n",
       "      <td>89</td>\n",
       "    </tr>\n",
       "    <tr>\n",
       "      <th>heading526</th>\n",
       "      <td>The group’s and partnership’s gross assets hav...</td>\n",
       "      <td>114</td>\n",
       "    </tr>\n",
       "    <tr>\n",
       "      <th>heading830</th>\n",
       "      <td>GroupAssets  £mLiabilities  £mBalance at 1 Oct...</td>\n",
       "      <td>107</td>\n",
       "    </tr>\n",
       "    <tr>\n",
       "      <th>heading300</th>\n",
       "      <td>Group Partnership2021  £m2020  £m2021  £m2020 ...</td>\n",
       "      <td>102</td>\n",
       "    </tr>\n",
       "  </tbody>\n",
       "</table>\n",
       "</div>"
      ],
      "text/plain": [
       "                                                                content  \\\n",
       "title     heading                                                         \n",
       "doc_title heading755  Significant Estimate The net book value of the...   \n",
       "          heading888  NotesForming part of the consolidated financia...   \n",
       "          heading526  The group’s and partnership’s gross assets hav...   \n",
       "          heading830  GroupAssets  £mLiabilities  £mBalance at 1 Oct...   \n",
       "          heading300  Group Partnership2021  £m2020  £m2021  £m2020 ...   \n",
       "\n",
       "                      tokens  \n",
       "title     heading             \n",
       "doc_title heading755      61  \n",
       "          heading888      89  \n",
       "          heading526     114  \n",
       "          heading830     107  \n",
       "          heading300     102  "
      ]
     },
     "execution_count": 34,
     "metadata": {},
     "output_type": "execute_result"
    }
   ],
   "source": [
    "df = pd.read_csv('knowledge_doc.csv')\n",
    "df = df.set_index([\"title\", \"heading\"])\n",
    "print(f\"{len(df)} rows in the data.\")\n",
    "df.sample(5)"
   ]
  },
  {
   "cell_type": "code",
   "execution_count": 35,
   "id": "591b62b5",
   "metadata": {
    "ExecuteTime": {
     "end_time": "2023-01-28T23:57:20.830599Z",
     "start_time": "2023-01-28T23:57:20.828267Z"
    }
   },
   "outputs": [],
   "source": [
    "MODEL_NAME = \"curie\"\n",
    "\n",
    "DOC_EMBEDDINGS_MODEL = f\"text-search-{MODEL_NAME}-doc-001\"\n",
    "QUERY_EMBEDDINGS_MODEL = f\"text-search-{MODEL_NAME}-query-001\""
   ]
  },
  {
   "cell_type": "code",
   "execution_count": 36,
   "id": "75417ff6",
   "metadata": {
    "ExecuteTime": {
     "end_time": "2023-01-28T23:57:21.407236Z",
     "start_time": "2023-01-28T23:57:21.402944Z"
    }
   },
   "outputs": [],
   "source": [
    "def get_embedding(text: str, model: str) -> list:\n",
    "    result = openai.Embedding.create(\n",
    "      model=model,\n",
    "      input=text\n",
    "    )\n",
    "    return result[\"data\"][0][\"embedding\"]\n",
    "\n",
    "def get_doc_embedding(text: str) -> list:\n",
    "    return get_embedding(text, DOC_EMBEDDINGS_MODEL)\n",
    "\n",
    "def get_query_embedding(text: str) -> list:\n",
    "    return get_embedding(text, QUERY_EMBEDDINGS_MODEL)"
   ]
  },
  {
   "cell_type": "code",
   "execution_count": 37,
   "id": "cfbd9298",
   "metadata": {
    "ExecuteTime": {
     "end_time": "2023-01-28T23:57:22.207919Z",
     "start_time": "2023-01-28T23:57:22.204722Z"
    }
   },
   "outputs": [],
   "source": [
    "def load_embeddings(fname: str) -> dict:\n",
    "    \"\"\"\n",
    "    Read the document embeddings and their keys from a CSV.\n",
    "    \n",
    "    fname is the path to a CSV with exactly these named columns: \n",
    "        \"title\", \"heading\", \"0\", \"1\", ... up to the length of the embedding vectors.\n",
    "    \"\"\"\n",
    "    \n",
    "    df = pd.read_csv(fname, header=0)\n",
    "    max_dim = max([int(c) for c in df.columns if c != \"title\" and c != \"heading\"])\n",
    "    return {\n",
    "           (r.title, r.heading): [r[str(i)] for i in range(max_dim + 1)] for _, r in df.iterrows()\n",
    "    }"
   ]
  },
  {
   "cell_type": "code",
   "execution_count": 38,
   "id": "517373f6",
   "metadata": {
    "ExecuteTime": {
     "end_time": "2023-01-29T00:01:14.250072Z",
     "start_time": "2023-01-29T00:01:03.604005Z"
    }
   },
   "outputs": [],
   "source": [
    "document_embeddings = load_embeddings(\"knowledge_embedding.csv\")"
   ]
  },
  {
   "cell_type": "code",
   "execution_count": 39,
   "id": "6df03d55",
   "metadata": {
    "ExecuteTime": {
     "end_time": "2023-01-29T00:01:22.401669Z",
     "start_time": "2023-01-29T00:01:22.397760Z"
    }
   },
   "outputs": [
    {
     "name": "stdout",
     "output_type": "stream",
     "text": [
      "('doc_title', 'heading1') : [0.0098580177873373, -0.0044100452214479, 0.0047049629501998, 0.0183168910443782, -0.019094193354249]... (4096 entries)\n"
     ]
    }
   ],
   "source": [
    "example_entry = list(document_embeddings.items())[0]\n",
    "print(f\"{example_entry[0]} : {example_entry[1][:5]}... ({len(example_entry[1])} entries)\")"
   ]
  },
  {
   "cell_type": "code",
   "execution_count": 40,
   "id": "1af9ad98",
   "metadata": {
    "ExecuteTime": {
     "end_time": "2023-01-29T00:01:28.466435Z",
     "start_time": "2023-01-29T00:01:28.463065Z"
    }
   },
   "outputs": [],
   "source": [
    "def vector_similarity(x: list, y: list) -> float:\n",
    "    \"\"\"\n",
    "    We could use cosine similarity or dot product to calculate the similarity between vectors.\n",
    "    In practice, we have found it makes little difference. \n",
    "    \"\"\"\n",
    "    return np.dot(np.array(x), np.array(y))\n",
    "\n",
    "def order_document_sections_by_query_similarity(query: str, contexts: dict) -> list:\n",
    "    \"\"\"\n",
    "    Find the query embedding for the supplied query, and compare it against all of the pre-calculated document embeddings\n",
    "    to find the most relevant sections. \n",
    "    \n",
    "    Return the list of document sections, sorted by relevance in descending order.\n",
    "    \"\"\"\n",
    "    query_embedding = get_query_embedding(query)\n",
    "    \n",
    "    document_similarities = sorted([\n",
    "        (vector_similarity(query_embedding, doc_embedding), doc_index) for doc_index, doc_embedding in contexts.items()\n",
    "    ], reverse=True)\n",
    "    \n",
    "    return document_similarities"
   ]
  },
  {
   "cell_type": "code",
   "execution_count": 41,
   "id": "bc8ec157",
   "metadata": {
    "ExecuteTime": {
     "end_time": "2023-01-29T00:02:33.775928Z",
     "start_time": "2023-01-29T00:02:32.144233Z"
    }
   },
   "outputs": [
    {
     "data": {
      "text/plain": [
       "[(0.45895831866573666, ('doc_title', 'heading392')),\n",
       " (0.457307189554787, ('doc_title', 'heading13')),\n",
       " (0.44966349273582573, ('doc_title', 'heading300')),\n",
       " (0.43523718628067554, ('doc_title', 'heading889')),\n",
       " (0.42902872291174965, ('doc_title', 'heading805'))]"
      ]
     },
     "execution_count": 41,
     "metadata": {},
     "output_type": "execute_result"
    }
   ],
   "source": [
    "order_document_sections_by_query_similarity(\"What is the member's capital in 2021?\", document_embeddings)[:5]"
   ]
  },
  {
   "cell_type": "code",
   "execution_count": 55,
   "id": "b77234e1",
   "metadata": {
    "ExecuteTime": {
     "end_time": "2023-01-29T00:14:10.537382Z",
     "start_time": "2023-01-29T00:14:05.374127Z"
    }
   },
   "outputs": [
    {
     "data": {
      "text/plain": [
       "'Context separator contains 3 tokens'"
      ]
     },
     "execution_count": 55,
     "metadata": {},
     "output_type": "execute_result"
    }
   ],
   "source": [
    "# length of context token\n",
    "MAX_SECTION_LEN = 700\n",
    "SEPARATOR = \"\\n* \"\n",
    "\n",
    "tokenizer = GPT2TokenizerFast.from_pretrained(\"gpt2\")\n",
    "separator_len = len(tokenizer.tokenize(SEPARATOR))\n",
    "\n",
    "f\"Context separator contains {separator_len} tokens\""
   ]
  },
  {
   "cell_type": "code",
   "execution_count": 56,
   "id": "cacaa917",
   "metadata": {
    "ExecuteTime": {
     "end_time": "2023-01-29T00:14:10.543228Z",
     "start_time": "2023-01-29T00:14:10.539341Z"
    }
   },
   "outputs": [],
   "source": [
    "def construct_prompt(question: str, context_embeddings: dict, df: pd.DataFrame) -> str:\n",
    "    \"\"\"\n",
    "    Fetch relevant \n",
    "    \"\"\"\n",
    "    most_relevant_document_sections = order_document_sections_by_query_similarity(question, context_embeddings)\n",
    "    \n",
    "    chosen_sections = []\n",
    "    chosen_sections_len = 0\n",
    "    chosen_sections_indexes = []\n",
    "     \n",
    "    for _, section_index in most_relevant_document_sections:\n",
    "        # Add contexts until we run out of space.        \n",
    "        document_section = df.loc[section_index]\n",
    "        \n",
    "        chosen_sections_len += document_section.tokens + separator_len\n",
    "        if chosen_sections_len > MAX_SECTION_LEN:\n",
    "            break\n",
    "            \n",
    "        chosen_sections.append(SEPARATOR + document_section.content.replace(\"\\n\", \" \"))\n",
    "        chosen_sections_indexes.append(str(section_index))\n",
    "            \n",
    "    # Useful diagnostic information\n",
    "    print(f\"Selected {len(chosen_sections)} document sections:\")\n",
    "    print(\"\\n\".join(chosen_sections_indexes))\n",
    "    \n",
    "    header = \"\"\"Answer the question as truthfully as possible using the provided context, and if the answer is not contained within the text below, say \"I don't know.\"\\n\\nContext:\\n\"\"\"\n",
    "    \n",
    "    return header + \"\".join(chosen_sections) + \"\\n\\n Q: \" + question + \"\\n A:\""
   ]
  },
  {
   "cell_type": "code",
   "execution_count": 57,
   "id": "c4637d93",
   "metadata": {
    "ExecuteTime": {
     "end_time": "2023-01-29T00:14:11.928454Z",
     "start_time": "2023-01-29T00:14:10.544519Z"
    }
   },
   "outputs": [
    {
     "name": "stdout",
     "output_type": "stream",
     "text": [
      "Selected 5 document sections:\n",
      "('doc_title', 'heading392')\n",
      "('doc_title', 'heading13')\n",
      "('doc_title', 'heading300')\n",
      "('doc_title', 'heading889')\n",
      "('doc_title', 'heading805')\n",
      "===\n",
      " Answer the question as truthfully as possible using the provided context, and if the answer is not contained within the text below, say \"I don't know.\"\n",
      "\n",
      "Context:\n",
      "\n",
      "* Movements in members’ capital were as follows:£mBalance at 1 October 2019 86Capital introduced by members 5Transfer of amounts due to members allocated to capital 13Repayments of capital (17)Balance at 30 September 2020 87Capital introduced by members 5Allocation of profits arising in year 181Repayments of capital (15)Balance at 30 September 2021 258Non-current 181Current 77At 30 September 2021, £20 million of members’ capital owed to former partners was classified as a non-current liability (see note 13)\n",
      "* Members’ capital is provided by each member on becoming a partner and is only repayable on retirement or resignation so generally remains stable from year to year. However, during the year, partners voted in favour of allocating £201 million of reserves to members’ capital, for repayment only after retirement, thereby retaining funds in the business for future investment. As a result, members’ capital increased to £258 million at 30 September 2021 (2020: £87 million)\n",
      "* Group Partnership2021  £m2020  £m2021  £m2020  £mMembers’ capital 258 87 258 87Lease liabilities 487 534 462 502745 621 720 58945UK Members’ Report and Financial Statements 2021© 2022 KPMG LLP , a UK limited liability partnership and a member firm of the KPMG global organisation of independent member firms affiliated with KPMG International Limited, a private English company limited by guarantee. All rights reserved.\n",
      "* Movements in members’ capital were as follows:£mBalance at 1 October 2018 73Capital introduced by members 8Transfer of amounts due to members allocated to capital 14Repayments of capital (9)Balance at 30 September 2019 86Capital introduced by members 5Transfer of amounts due to members, allocated to capital 13Repayments of capital (17)Balance at 30 September 2020 8722. Equity, members’ capital and other interests (continued)Amounts due from/(to) members In addition to other members’ interests classified as equity, members’ interests also comprise amounts due from/(to) members as follows:Group Partnership2020  £m2019  £m2020  £m2019  £mAmounts due from members 47 46 47 46Amounts due to members (178) (205) (178) (205) (131) (159) (131) (159)Amounts due from members relate to amounts advanced to members in their first year of appointment, to cover the liabilities arising for those individuals as a result of the change in tax basis to self-employed. These balances are repayable by the member upon retirement or earlier cessation of membership\n",
      "* The availability of this revolving facility is dependent on certain conditions, including a minimum level of members’ capital, all of which were satisfied at 30 September 2020 and 2019\n",
      "\n",
      " Q: What is the member's capital in 2021?\n",
      " A:\n"
     ]
    }
   ],
   "source": [
    "prompt = construct_prompt(\n",
    "    \"What is the member's capital in 2021?\",\n",
    "    document_embeddings,\n",
    "    df\n",
    ")\n",
    "\n",
    "print(\"===\\n\", prompt)"
   ]
  },
  {
   "cell_type": "code",
   "execution_count": 58,
   "id": "1826945e",
   "metadata": {
    "ExecuteTime": {
     "end_time": "2023-01-29T00:15:08.990821Z",
     "start_time": "2023-01-29T00:15:08.988652Z"
    }
   },
   "outputs": [],
   "source": [
    "# Reference\n",
    "# https://beta.openai.com/docs/api-reference/completions/create\n",
    "    \n",
    "COMPLETIONS_API_PARAMS = {\n",
    "    \"temperature\": 0.0, # Higher values means the model will take more risks. Try 0.9 for more creative applications, and 0 (argmax sampling) for ones with a well-defined answer.\n",
    "    \"max_tokens\": 200, # The maximum number of tokens to generate in the completion/answer. The token count of prompt + max_tokens <= model's context length (usually 2048)\n",
    "    \"model\": COMPLETIONS_MODEL,\n",
    "}"
   ]
  },
  {
   "cell_type": "code",
   "execution_count": 59,
   "id": "e2d4baf3",
   "metadata": {
    "ExecuteTime": {
     "end_time": "2023-01-29T00:15:31.349502Z",
     "start_time": "2023-01-29T00:15:31.346491Z"
    }
   },
   "outputs": [],
   "source": [
    "def answer_query_with_context(\n",
    "    query: str,\n",
    "    df: pd.DataFrame,\n",
    "    document_embeddings: dict,\n",
    "    show_prompt: bool = False\n",
    ") -> str:\n",
    "    prompt = construct_prompt(\n",
    "        query,\n",
    "        document_embeddings,\n",
    "        df\n",
    "    )\n",
    "    \n",
    "    if show_prompt:\n",
    "        print(prompt)\n",
    "\n",
    "    response = openai.Completion.create(\n",
    "                prompt=prompt,\n",
    "                **COMPLETIONS_API_PARAMS\n",
    "            )\n",
    "\n",
    "    return response[\"choices\"][0][\"text\"].strip(\" \\n\")"
   ]
  },
  {
   "cell_type": "code",
   "execution_count": 60,
   "id": "98011ea0",
   "metadata": {
    "ExecuteTime": {
     "end_time": "2023-01-29T00:15:37.597371Z",
     "start_time": "2023-01-29T00:15:34.902441Z"
    }
   },
   "outputs": [
    {
     "name": "stdout",
     "output_type": "stream",
     "text": [
      "Selected 5 document sections:\n",
      "('doc_title', 'heading392')\n",
      "('doc_title', 'heading13')\n",
      "('doc_title', 'heading300')\n",
      "('doc_title', 'heading889')\n",
      "('doc_title', 'heading805')\n"
     ]
    },
    {
     "data": {
      "text/plain": [
       "\"The member's capital is 258 million in 2021.\""
      ]
     },
     "execution_count": 60,
     "metadata": {},
     "output_type": "execute_result"
    }
   ],
   "source": [
    "# from 2021 report\n",
    "answer_query_with_context(\"What is the member's capital in 2021?\", df, document_embeddings)"
   ]
  },
  {
   "cell_type": "code",
   "execution_count": 62,
   "id": "06315c16",
   "metadata": {
    "ExecuteTime": {
     "end_time": "2023-01-29T00:15:53.040418Z",
     "start_time": "2023-01-29T00:15:51.496023Z"
    }
   },
   "outputs": [
    {
     "name": "stdout",
     "output_type": "stream",
     "text": [
      "Selected 6 document sections:\n",
      "('doc_title', 'heading723')\n",
      "('doc_title', 'heading226')\n",
      "('doc_title', 'heading224')\n",
      "('doc_title', 'heading701')\n",
      "('doc_title', 'heading203')\n",
      "('doc_title', 'heading62')\n",
      "\n",
      "Q: What is the revenue in 2020 and 2021?\n",
      "A: The revenue in 2020 is £2,303 million and in 2021 is £2,433 million.\n"
     ]
    }
   ],
   "source": [
    "query = \"What is the revenue in 2020 and 2021?\"\n",
    "answer = answer_query_with_context(query, df, document_embeddings)\n",
    "\n",
    "print(f\"\\nQ: {query}\\nA: {answer}\")"
   ]
  },
  {
   "cell_type": "code",
   "execution_count": 63,
   "id": "3a405224",
   "metadata": {
    "ExecuteTime": {
     "end_time": "2023-01-29T00:16:01.937799Z",
     "start_time": "2023-01-29T00:15:58.867931Z"
    }
   },
   "outputs": [
    {
     "name": "stdout",
     "output_type": "stream",
     "text": [
      "Selected 8 document sections:\n",
      "('doc_title', 'heading33')\n",
      "('doc_title', 'heading991')\n",
      "('doc_title', 'heading489')\n",
      "('doc_title', 'heading35')\n",
      "('doc_title', 'heading587')\n",
      "('doc_title', 'heading254')\n",
      "('doc_title', 'heading1000')\n",
      "('doc_title', 'heading502')\n",
      "\n",
      "Q: How does Brexit impact KPMG?\n",
      "A: The Brexit risk has reduced considerably since last year as we have taken significant steps to prepare the firm for the ongoing consequences of the UK leaving the European Union. However, uncertainty remains around the impact of new regulatory and other restrictions that may be implemented by EU member states in future periods and we will continue to evaluate the impact of Brexit on both the group’s activities and those of our clients.\n"
     ]
    }
   ],
   "source": [
    "query = \"How does Brexit impact KPMG?\"\n",
    "answer = answer_query_with_context(query, df, document_embeddings)\n",
    "\n",
    "print(f\"\\nQ: {query}\\nA: {answer}\")"
   ]
  },
  {
   "cell_type": "code",
   "execution_count": 64,
   "id": "7a7e4ea3",
   "metadata": {
    "ExecuteTime": {
     "end_time": "2023-01-29T00:16:11.936699Z",
     "start_time": "2023-01-29T00:16:10.000018Z"
    }
   },
   "outputs": [
    {
     "name": "stdout",
     "output_type": "stream",
     "text": [
      "Selected 8 document sections:\n",
      "('doc_title', 'heading519')\n",
      "('doc_title', 'heading17')\n",
      "('doc_title', 'heading521')\n",
      "('doc_title', 'heading18')\n",
      "('doc_title', 'heading234')\n",
      "('doc_title', 'heading731')\n",
      "('doc_title', 'heading733')\n",
      "('doc_title', 'heading14')\n",
      "\n",
      "Q: How is Discretionary Profit Share allocated to member?\n",
      "A: Discretionary Profit Share is allocated to members on the basis of their relative in-year performance against their balanced scorecard goals.\n"
     ]
    }
   ],
   "source": [
    "# from 2020 report\n",
    "query = \"How is Discretionary Profit Share allocated to member?\"\n",
    "answer = answer_query_with_context(query, df, document_embeddings)\n",
    "\n",
    "print(f\"\\nQ: {query}\\nA: {answer}\")"
   ]
  },
  {
   "cell_type": "code",
   "execution_count": 65,
   "id": "527ed931",
   "metadata": {
    "ExecuteTime": {
     "end_time": "2023-01-29T00:16:26.134023Z",
     "start_time": "2023-01-29T00:16:23.465853Z"
    }
   },
   "outputs": [
    {
     "name": "stdout",
     "output_type": "stream",
     "text": [
      "Selected 8 document sections:\n",
      "('doc_title', 'heading701')\n",
      "('doc_title', 'heading62')\n",
      "('doc_title', 'heading723')\n",
      "('doc_title', 'heading226')\n",
      "('doc_title', 'heading224')\n",
      "('doc_title', 'heading725')\n",
      "('doc_title', 'heading565')\n",
      "('doc_title', 'heading203')\n",
      "\n",
      "Q: What is the revenue in 2019 and 2020?\n",
      "A: The revenue in 2019 is £2,433 million and in 2020 is £2,303 million.\n"
     ]
    }
   ],
   "source": [
    "query = \"What is the revenue in 2019 and 2020?\"\n",
    "answer = answer_query_with_context(query, df, document_embeddings)\n",
    "\n",
    "print(f\"\\nQ: {query}\\nA: {answer}\")"
   ]
  },
  {
   "cell_type": "code",
   "execution_count": 66,
   "id": "470fa8eb",
   "metadata": {
    "ExecuteTime": {
     "end_time": "2023-01-29T00:17:42.529958Z",
     "start_time": "2023-01-29T00:17:40.209323Z"
    }
   },
   "outputs": [
    {
     "name": "stdout",
     "output_type": "stream",
     "text": [
      "Selected 6 document sections:\n",
      "('doc_title', 'heading545')\n",
      "('doc_title', 'heading43')\n",
      "('doc_title', 'heading606')\n",
      "('doc_title', 'heading110')\n",
      "('doc_title', 'heading210')\n",
      "('doc_title', 'heading69')\n",
      "\n",
      "Q: What is Disclosure of information to the auditor?\n",
      "A: Disclosure of information to the auditor is the process of sharing relevant information with the auditor so that they can perform their duties accurately.\n"
     ]
    }
   ],
   "source": [
    "query = \"What is Disclosure of information to the auditor?\"\n",
    "answer = answer_query_with_context(query, df, document_embeddings)\n",
    "\n",
    "print(f\"\\nQ: {query}\\nA: {answer}\")"
   ]
  },
  {
   "cell_type": "code",
   "execution_count": 69,
   "id": "4584dd8f",
   "metadata": {
    "ExecuteTime": {
     "end_time": "2023-01-29T00:21:23.702819Z",
     "start_time": "2023-01-29T00:21:21.922839Z"
    }
   },
   "outputs": [
    {
     "name": "stdout",
     "output_type": "stream",
     "text": [
      "Selected 12 document sections:\n",
      "('doc_title', 'heading991')\n",
      "('doc_title', 'heading489')\n",
      "('doc_title', 'heading1000')\n",
      "('doc_title', 'heading502')\n",
      "('doc_title', 'heading493')\n",
      "('doc_title', 'heading508')\n",
      "('doc_title', 'heading6')\n",
      "('doc_title', 'heading509')\n",
      "('doc_title', 'heading4')\n",
      "('doc_title', 'heading19')\n",
      "('doc_title', 'heading486')\n",
      "('doc_title', 'heading228')\n",
      "\n",
      "Q: Who are the clients of KPMG UK?\n",
      "A: I don't know.\n"
     ]
    }
   ],
   "source": [
    "# out of scope question\n",
    "query = \"Who are the clients of KPMG UK?\"\n",
    "answer = answer_query_with_context(query, df, document_embeddings)\n",
    "\n",
    "print(f\"\\nQ: {query}\\nA: {answer}\")"
   ]
  },
  {
   "cell_type": "code",
   "execution_count": null,
   "id": "1ad8f918",
   "metadata": {},
   "outputs": [],
   "source": []
  }
 ],
 "metadata": {
  "kernelspec": {
   "display_name": "Python 3 (ipykernel)",
   "language": "python",
   "name": "python3"
  },
  "language_info": {
   "codemirror_mode": {
    "name": "ipython",
    "version": 3
   },
   "file_extension": ".py",
   "mimetype": "text/x-python",
   "name": "python",
   "nbconvert_exporter": "python",
   "pygments_lexer": "ipython3",
   "version": "3.8.5"
  }
 },
 "nbformat": 4,
 "nbformat_minor": 5
}
